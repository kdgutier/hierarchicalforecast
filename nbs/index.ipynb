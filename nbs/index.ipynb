{
 "cells": [
  {
   "cell_type": "markdown",
   "metadata": {},
   "source": [
    "# DOCUMENTATION"
   ]
  },
  {
   "cell_type": "markdown",
   "metadata": {},
   "source": [
    "## <left> Why HierarchicalForecast </left>"
   ]
  },
  {
   "cell_type": "markdown",
   "metadata": {},
   "source": [
    "`HierarchicalForecast` is a time-series forecasting library with hierarchical forecast baselines.\n",
    "<br>\n",
    "##### Why Hierarchical Forecasting\n",
    "\n",
    "Hierarchical Forecasting arises when the forecast user needs 'coherent' predictions for a group/hierarchy of series.\n",
    "Coherent forecasts are those that satisfy aggregation constraints defined by the group structure, in the sense that dis-aggregated predictions 'add-up' to the predictions of the aggregate levels.\n",
    "\n",
    "- Coherent Predictions: \n",
    "    - Predictions that are ensured to be well-alligned with the aggregation constraints of the series.\n",
    "- Accurate Predictions: \n",
    "    - Hierarchical forecasting has constantly shown to improve on base level forecast, acting as regularization.\n",
    "- Fast and Base Predictions: \n",
    "    - We build on top [StatsForecast](https://github.com/Nixtla/statsforecast) the fastest library for AutoARIMA.\n",
    "\n",
    "##### HierarchicalForecast Features\n",
    "- Easy-to-use classic and state-of-the-art reconciliatino techniques: \n",
    "\t- NaiveBU \n",
    "    - TopDown\n",
    "    - MinT\n",
    "    - ERM\n",
    "<br>"
   ]
  },
  {
   "cell_type": "markdown",
   "metadata": {},
   "source": [
    "<br>\n",
    "<br>"
   ]
  },
  {
   "cell_type": "markdown",
   "metadata": {},
   "source": [
    "## <left> Tutorial 1: Installation and Introduction <left>"
   ]
  },
  {
   "cell_type": "markdown",
   "metadata": {},
   "source": [
    "## <left> Tutorial 2: Example Hierarchical DataSets <left>"
   ]
  },
  {
   "cell_type": "markdown",
   "metadata": {},
   "source": [
    "## <left> Tutorial 3: Model Training and Evaluation <left>"
   ]
  },
  {
   "cell_type": "markdown",
   "metadata": {},
   "source": [
    "## <left> Community <left>"
   ]
  },
  {
   "cell_type": "markdown",
   "metadata": {},
   "source": [
    "Slack, twitter, something else"
   ]
  },
  {
   "cell_type": "markdown",
   "metadata": {},
   "source": []
  },
  {
   "cell_type": "code",
   "execution_count": null,
   "metadata": {},
   "outputs": [],
   "source": []
  }
 ],
 "metadata": {
  "kernelspec": {
   "display_name": "Python 3 (ipykernel)",
   "language": "python",
   "name": "python3"
  }
 },
 "nbformat": 4,
 "nbformat_minor": 4
}
